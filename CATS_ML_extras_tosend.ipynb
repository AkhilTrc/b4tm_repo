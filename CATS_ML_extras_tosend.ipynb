{
 "cells": [
  {
   "attachments": {},
   "cell_type": "markdown",
   "metadata": {
    "id": "pp8rsGj6HYIf"
   },
   "source": [
    "# Trial version"
   ]
  },
  {
   "cell_type": "code",
   "execution_count": null,
   "metadata": {
    "id": "R9Ir_eAnHYIh"
   },
   "outputs": [],
   "source": [
    "import pandas as pd\n",
    "\n",
    "dataset = pd.read_csv('Data/Train_call.txt', sep='\\t')\n",
    "labels = pd.read_csv('Data/Train_clinical.txt', sep='\\t')"
   ]
  },
  {
   "cell_type": "code",
   "execution_count": null,
   "metadata": {
    "colab": {
     "base_uri": "https://localhost:8080/",
     "height": 0
    },
    "id": "Q2vREgh0HYIi",
    "outputId": "2f3215b3-dea1-4f53-f19b-60e4982c804f"
   },
   "outputs": [],
   "source": [
    "dataset.head(20)"
   ]
  },
  {
   "cell_type": "code",
   "execution_count": null,
   "metadata": {
    "id": "6-Qg0dOrHYIi"
   },
   "outputs": [],
   "source": [
    "dataset_transposed = dataset.T\n",
    "dataset_transposed = dataset_transposed.drop(['Start', 'End', 'Nclone', 'Chromosome'])\n",
    "dataset_transposed = dataset_transposed.reset_index()\n",
    "\n",
    "trainset = pd.concat([dataset_transposed, labels], axis=1)\n",
    "trainset = trainset.set_index('Sample')\n",
    "trainset = trainset.drop(columns = ['index'])"
   ]
  },
  {
   "cell_type": "code",
   "execution_count": null,
   "metadata": {
    "colab": {
     "base_uri": "https://localhost:8080/",
     "height": 0
    },
    "id": "1GORLhBqHYIl",
    "outputId": "ae6ddb9c-a318-4c6f-dbf2-53d5b215a2cc"
   },
   "outputs": [],
   "source": [
    "trainset"
   ]
  },
  {
   "attachments": {},
   "cell_type": "markdown",
   "metadata": {
    "id": "RzDjNszOMwKj"
   },
   "source": [
    "## Bare-bones ML model trials"
   ]
  },
  {
   "attachments": {},
   "cell_type": "markdown",
   "metadata": {
    "id": "RkXj7-2THYIl"
   },
   "source": [
    "### Support Vector Classification"
   ]
  },
  {
   "cell_type": "code",
   "execution_count": null,
   "metadata": {
    "id": "LijecgjBHYIl"
   },
   "outputs": [],
   "source": [
    "import numpy as np\n",
    "import pandas as pd\n",
    "from sklearn.model_selection import train_test_split\n",
    "from sklearn.preprocessing import StandardScaler\n",
    "from sklearn.svm import SVC\n",
    "from sklearn.metrics import accuracy_score, confusion_matrix"
   ]
  },
  {
   "cell_type": "code",
   "execution_count": null,
   "metadata": {
    "id": "UUGo1_VNHYIl"
   },
   "outputs": [],
   "source": [
    "# Separate the features and labels\n",
    "#\n",
    "X = trainset.iloc[:, :-1].values\n",
    "y = trainset.iloc[:, -1].values\n",
    "\n",
    "# Split the dataset into training and testing sets\n",
    "#\n",
    "X_train, X_test, y_train, y_test = train_test_split(X, y, test_size=0.2, random_state=0)"
   ]
  },
  {
   "cell_type": "code",
   "execution_count": null,
   "metadata": {
    "id": "RlMUN6peHYIl"
   },
   "outputs": [],
   "source": [
    "# Scale the features\n",
    "#\n",
    "sc = StandardScaler()\n",
    "X_train = sc.fit_transform(X_train)\n",
    "X_test = sc.transform(X_test)\n",
    "X_train.shape"
   ]
  },
  {
   "cell_type": "code",
   "execution_count": null,
   "metadata": {
    "colab": {
     "base_uri": "https://localhost:8080/",
     "height": 0
    },
    "id": "r1wY7IE8HYIl",
    "outputId": "879f2fcb-c9d1-49b6-cf5c-2d7abbfb73d1"
   },
   "outputs": [],
   "source": [
    "# Train the SVM model\n",
    "#\n",
    "classifier = SVC(kernel='linear', random_state=0, probability=True)\n",
    "classifier.fit(X_train, y_train)"
   ]
  },
  {
   "cell_type": "code",
   "execution_count": null,
   "metadata": {
    "colab": {
     "base_uri": "https://localhost:8080/"
    },
    "id": "Lzn0rcp-HYIm",
    "outputId": "0aa24692-378d-4eb4-9fbe-c827617847c0"
   },
   "outputs": [],
   "source": [
    "# Make predictions on the testing set\n",
    "#\n",
    "y_pred = classifier.predict(X_test)\n",
    "# Evaluate the performance of the model\n",
    "#\n",
    "accuracy = accuracy_score(y_test, y_pred)\n",
    "# cm = confusion_matrix(y_test, y_pred)\n",
    "print(\"Accuracy:\", accuracy)\n",
    "# print(\"Confusion Matrix:\\n\", cm)"
   ]
  },
  {
   "attachments": {},
   "cell_type": "markdown",
   "metadata": {
    "id": "ZP1g-Q9cHYIm"
   },
   "source": [
    "### Naive Bayes Classification"
   ]
  },
  {
   "cell_type": "code",
   "execution_count": null,
   "metadata": {
    "id": "opxAaiHeHYIm"
   },
   "outputs": [],
   "source": [
    "from sklearn.naive_bayes import GaussianNB"
   ]
  },
  {
   "cell_type": "code",
   "execution_count": null,
   "metadata": {
    "colab": {
     "base_uri": "https://localhost:8080/"
    },
    "id": "gh6WZkb_HYIm",
    "outputId": "91809c46-f94c-4546-94c1-cc83cd92f4dc"
   },
   "outputs": [],
   "source": [
    "gnb = GaussianNB()\n",
    "gnb.fit(X_train, y_train)\n",
    "\n",
    "y_pred = gnb.predict(X_test)\n",
    "\n",
    "accuracy = accuracy_score(y_test, y_pred)\n",
    "print(\"Accuracy: {:.2f}%\".format(accuracy*100))"
   ]
  },
  {
   "attachments": {},
   "cell_type": "markdown",
   "metadata": {
    "id": "Rp7ytZeOHYIm"
   },
   "source": [
    "### Random Forest Classification"
   ]
  },
  {
   "cell_type": "code",
   "execution_count": null,
   "metadata": {
    "id": "rsmBgy1gHYIm"
   },
   "outputs": [],
   "source": [
    "from sklearn.ensemble import RandomForestClassifier\n",
    "from sklearn.datasets import make_classification"
   ]
  },
  {
   "cell_type": "code",
   "execution_count": null,
   "metadata": {
    "colab": {
     "base_uri": "https://localhost:8080/"
    },
    "id": "HIK2VvhsHYIm",
    "outputId": "3dc22595-5d3f-4d4a-8d9a-6efdd25ccbaf"
   },
   "outputs": [],
   "source": [
    "rfc = RandomForestClassifier(n_estimators=100, random_state=42)\n",
    "rfc.fit(X_train, y_train)\n",
    "\n",
    "y_pred = rfc.predict(X_test)\n",
    "\n",
    "accuracy = accuracy_score(y_test, y_pred)\n",
    "print(\"Accuracy: {:.2f}%\".format(accuracy*100))"
   ]
  },
  {
   "attachments": {},
   "cell_type": "markdown",
   "metadata": {
    "id": "l2g3Sfffk15U"
   },
   "source": [
    "# Final Version "
   ]
  },
  {
   "attachments": {},
   "cell_type": "markdown",
   "metadata": {
    "id": "6RVmA9UyM7lz"
   },
   "source": [
    "## Data Processing [Make sure to run this Block before running anything else]"
   ]
  },
  {
   "cell_type": "code",
   "execution_count": null,
   "metadata": {
    "id": "eQdBxldZ1uXD"
   },
   "outputs": [],
   "source": [
    "from sklearn.model_selection import GridSearchCV, cross_val_score, cross_validate, KFold\n",
    "from sklearn.svm import SVC\n",
    "from sklearn.ensemble import RandomForestClassifier\n",
    "import pandas as pd\n",
    "from sklearn.model_selection import train_test_split\n",
    "from sklearn.metrics import classification_report, accuracy_score, confusion_matrix\n",
    "\n",
    "import warnings\n",
    "warnings.filterwarnings(\"ignore\")"
   ]
  },
  {
   "cell_type": "code",
   "execution_count": null,
   "metadata": {
    "id": "GyWIbLIR8_c5"
   },
   "outputs": [],
   "source": [
    "dataset = pd.read_csv('Data/Train_call.txt', sep='\\t')\n",
    "labels = pd.read_csv('Data/Train_clinical.txt', sep='\\t')"
   ]
  },
  {
   "cell_type": "code",
   "execution_count": null,
   "metadata": {
    "id": "GdYXfs0L1w3X"
   },
   "outputs": [],
   "source": [
    "dataset_transposed = dataset.T\n",
    "dataset_transposed = dataset_transposed.drop(['Start', 'End', 'Nclone', 'Chromosome'])\n",
    "dataset_transposed = dataset_transposed.reset_index()\n",
    "\n",
    "trainset = pd.concat([dataset_transposed, labels], axis=1)\n",
    "trainset = trainset.set_index('Sample')\n",
    "trainset = trainset.drop(columns = ['index'])"
   ]
  },
  {
   "cell_type": "code",
   "execution_count": null,
   "metadata": {
    "id": "fU-VsZWr2s-P"
   },
   "outputs": [],
   "source": [
    "X = trainset.iloc[:, :-1].values\n",
    "y = trainset.iloc[:, -1].values\n",
    "\n",
    "X_train_full, X_test_full, y_train_full, y_test_full = train_test_split(X, y, test_size=0.2, random_state=0)"
   ]
  },
  {
   "cell_type": "code",
   "execution_count": null,
   "metadata": {
    "colab": {
     "base_uri": "https://localhost:8080/"
    },
    "id": "26mO1LY5hrGI",
    "outputId": "a5b22ece-7be6-4eb9-fc26-2fc7780b60e1"
   },
   "outputs": [],
   "source": [
    "n_fet = trainset.shape[1]"
   ]
  },
  {
   "cell_type": "code",
   "execution_count": null,
   "metadata": {
    "colab": {
     "base_uri": "https://localhost:8080/"
    },
    "id": "Ec6xrmSOKN8R",
    "outputId": "0a7d4b42-d8b4-47b2-acb6-ae09f55af069"
   },
   "outputs": [],
   "source": [
    "import numpy as np\n",
    "\n",
    "unique_values, counts = np.unique(y_train, return_counts=True)\n",
    "print(dict(zip(unique_values, counts)))"
   ]
  },
  {
   "attachments": {},
   "cell_type": "markdown",
   "metadata": {
    "id": "_oHW5l75Mlrq"
   },
   "source": [
    "## NCV on SVM/RF "
   ]
  },
  {
   "cell_type": "code",
   "execution_count": null,
   "metadata": {},
   "outputs": [],
   "source": [
    "import math"
   ]
  },
  {
   "cell_type": "code",
   "execution_count": null,
   "metadata": {
    "id": "LV8YmP8z2RDm"
   },
   "outputs": [],
   "source": [
    "# Define the hyperparameters for SVC and Random Forest\n",
    "#\n",
    "svc_params = {'C': [0.001, 0.1, 1, 10], 'gamma': [0.1, 1, 10, 100], 'kernel': ['linear', 'poly', 'sigmoid', 'rbf']}\n",
    "rf_params = {'n_estimators': [50, 100, 250, 500], 'max_depth': [5, 10, 30], 'min_samples_split': [2, 5, 10], 'max_features': [100, 500, 1000, round(math.sqrt(n_fet))]}"
   ]
  },
  {
   "cell_type": "code",
   "execution_count": null,
   "metadata": {
    "id": "aAI0pq6F2YCF"
   },
   "outputs": [],
   "source": [
    "# Define the outer and inner CV loops\n",
    "#\n",
    "outer_cv = KFold(n_splits=10, shuffle=True)\n",
    "inner_cv = KFold(n_splits=5, shuffle=True)"
   ]
  },
  {
   "cell_type": "code",
   "execution_count": null,
   "metadata": {
    "id": "74gy5fqG2gf0"
   },
   "outputs": [],
   "source": [
    "# For SVC\n",
    "#\n",
    "svc_grid = GridSearchCV(estimator=SVC(), param_grid=svc_params, cv=inner_cv)\n",
    "svc_grid.fit(X, y)\n",
    "svc_best_params = svc_grid.best_params_\n",
    "svc_scores = cross_val_score(estimator=svc_grid, X=X_train, y=y_train, cv=outer_cv)"
   ]
  },
  {
   "cell_type": "code",
   "execution_count": null,
   "metadata": {},
   "outputs": [],
   "source": [
    "print(\"SVC best params:\", svc_best_params)\n",
    "print(\"SVC: Mean accuracy=%.3f, std=%.3f\" % (svc_scores.mean(), svc_scores.std()))"
   ]
  },
  {
   "cell_type": "code",
   "execution_count": null,
   "metadata": {
    "id": "dhOKd44A24D_"
   },
   "outputs": [],
   "source": [
    "# For RF\n",
    "#\n",
    "rf_grid = GridSearchCV(estimator=RandomForestClassifier(), param_grid=rf_params, cv=inner_cv)\n",
    "rf_grid.fit(X, y)\n",
    "rf_best_params = rf_grid.best_params_\n",
    "rf_scores = cross_val_score(estimator=rf_grid, X=X_train, y=y_train, cv=outer_cv)"
   ]
  },
  {
   "cell_type": "code",
   "execution_count": null,
   "metadata": {},
   "outputs": [],
   "source": [
    "rfc = RandomForestClassifier(n_estimators = 100, max_depth = 5, max_features = 1000, min_samples_split = 10, random_state=42)\n",
    "rfc.fit(X_train, y_train)\n",
    "\n",
    "y_pred = rfc.predict(X_test)\n",
    "\n",
    "accuracy = accuracy_score(y_test, y_pred)\n",
    "print(\"Accuracy: {:.2f}%\".format(accuracy*100))"
   ]
  },
  {
   "cell_type": "code",
   "execution_count": null,
   "metadata": {
    "colab": {
     "base_uri": "https://localhost:8080/"
    },
    "id": "sYGcmLG73xzW",
    "outputId": "72398f1b-d3f6-4051-bdec-3f6fb09fda5d"
   },
   "outputs": [],
   "source": [
    "print(\"\\nRandom Forest best params:\", rf_best_params)\n",
    "print(\"Random Forest: Mean accuracy=%.3f, std=%.3f\" % (rf_scores.mean(), rf_scores.std()))"
   ]
  },
  {
   "attachments": {},
   "cell_type": "markdown",
   "metadata": {
    "id": "YJ6UlaEYhrGL"
   },
   "source": [
    "## RFE Dim reduction"
   ]
  },
  {
   "cell_type": "code",
   "execution_count": null,
   "metadata": {
    "colab": {
     "base_uri": "https://localhost:8080/"
    },
    "id": "kZti4w5vsl5R",
    "outputId": "a00881ad-bdf2-4099-ecc5-30de8ab15935"
   },
   "outputs": [],
   "source": [
    "from numpy import mean, std\n",
    "from sklearn.feature_selection import RFE, RFECV\n",
    "from sklearn.datasets import make_classification\n",
    "from sklearn.pipeline import Pipeline\n",
    "from sklearn.model_selection import RepeatedStratifiedKFold\n",
    "\n",
    "estimator = SVC(C = 0.1, kernel='linear')\n",
    "\n",
    "rfe = RFE(estimator, n_features_to_select=X_train.shape[1], verbose=1)\n",
    "pipeline = Pipeline(steps=[('s',rfe),('e',estimator)])\n",
    "\n",
    "rfe.fit(X_train, y_train)\n",
    "\n",
    "cv = RepeatedStratifiedKFold(n_splits=10, n_repeats=3, random_state=0)\n",
    "n_scores = cross_val_score(pipeline, X_train, y_train, scoring='accuracy', cv=cv, n_jobs=-1, error_score='raise')\n",
    "\n",
    "print('Accuracy: %.3f (%.3f)' % (mean(n_scores), std(n_scores)))"
   ]
  },
  {
   "cell_type": "code",
   "execution_count": null,
   "metadata": {
    "colab": {
     "base_uri": "https://localhost:8080/"
    },
    "id": "-ZAJ4QstwqJe",
    "outputId": "06c2f69c-f4df-4ea9-bc06-77760f11ab80"
   },
   "outputs": [],
   "source": [
    "import numpy as np\n",
    "\n",
    "support = np.where(rfe.support_)[0]\n",
    "ranking = np.where(rfe.ranking_)[0]\n",
    "print(\"Selected features: \", ranking)"
   ]
  },
  {
   "cell_type": "code",
   "execution_count": null,
   "metadata": {
    "id": "J9Z3Ou7lqNsh"
   },
   "outputs": [],
   "source": [
    "for i in range(X_train.shape[1]):\n",
    "  if rfe.support_[i] == True and rfe.ranking_[i] != 1:\n",
    "    print('Column: %d, Selected %s, Rank: %.3f' % (i, rfe.support_[i], rfe.ranking_[i]))"
   ]
  },
  {
   "attachments": {},
   "cell_type": "markdown",
   "metadata": {
    "id": "y_9IS128hrGM"
   },
   "source": [
    "## RFECV"
   ]
  },
  {
   "cell_type": "code",
   "execution_count": null,
   "metadata": {
    "colab": {
     "base_uri": "https://localhost:8080/",
     "height": 35
    },
    "id": "jxnUBSXj0T4O",
    "outputId": "cfc8ea70-c14b-4470-e5de-1209e0c47178"
   },
   "outputs": [],
   "source": [
    "import numpy as np\n",
    "from numpy import mean, std\n",
    "from sklearn.feature_selection import RFE, RFECV\n",
    "from sklearn.pipeline import Pipeline\n",
    "from sklearn.model_selection import RepeatedStratifiedKFold, StratifiedKFold\n",
    "\n",
    "\"\"\"\n",
    "RFECV automatically finds the best estimators as well as the optimal number of them for best performance. \n",
    "\"\"\""
   ]
  },
  {
   "cell_type": "code",
   "execution_count": null,
   "metadata": {
    "id": "EfaHr07pNaO6"
   },
   "outputs": [],
   "source": [
    "estimator = SVC(C = 0.1, gamma = 0.1, kernel='linear')\n",
    "rfecv = RFECV(estimator)\n",
    "pipeline = Pipeline(steps=[('s',rfecv),('e',estimator)])\n",
    "rfecv = rfecv.fit(X, y)"
   ]
  },
  {
   "cell_type": "code",
   "execution_count": null,
   "metadata": {},
   "outputs": [],
   "source": [
    "rf = RandomForestClassifier(n_estimators= 150, max_depth = 5, max_features = 1000, min_samples_split = 10)\n",
    "rfecv = RFECV(estimator=rf, cv=StratifiedKFold(10), scoring='accuracy')\n",
    "rfecv.fit(X,y)\n",
    "print('Optimal number of features: {}'.format(rfecv.n_features_))\n",
    "\n",
    "features = [f for f,s in zip(X_train.columns, rfecv.support_) if s]\n",
    "print(features)"
   ]
  },
  {
   "cell_type": "code",
   "execution_count": null,
   "metadata": {},
   "outputs": [],
   "source": [
    "cv = RepeatedStratifiedKFold(n_splits=10, n_repeats=3, random_state=0)\n",
    "n_scores = cross_val_score(pipeline, X, y, scoring='accuracy', cv=cv)"
   ]
  },
  {
   "cell_type": "code",
   "execution_count": null,
   "metadata": {
    "id": "QAlJj5dHhrGN"
   },
   "outputs": [],
   "source": [
    "print('Accuracy: %.3f; Std: %.3f' % (mean(n_scores), std(n_scores)))\n",
    "print('Accuracy: %.3f; Std: %.3f' % (mean(n_scores)*100, std(n_scores)*100))"
   ]
  },
  {
   "cell_type": "code",
   "execution_count": null,
   "metadata": {
    "id": "ThP2Nel0hrGN"
   },
   "outputs": [],
   "source": [
    "selected_indices = np.where(rfecv.support_ == True)[0]\n",
    "print('# selected features = %.3f' % (rfecv.n_features_))\n",
    "print('List the selected features = ', selected_indices)"
   ]
  },
  {
   "attachments": {},
   "cell_type": "markdown",
   "metadata": {
    "id": "V3XasclXhrGN"
   },
   "source": [
    "## SVC with Selected features"
   ]
  },
  {
   "cell_type": "code",
   "execution_count": null,
   "metadata": {
    "id": "S37TUQBihrGO"
   },
   "outputs": [],
   "source": [
    "import pandas as pd\n",
    "\n",
    "\"\"\"\n",
    "Best ranked features based on RFE with SVC (Run RFECV block above to find out).\n",
    "PS: The RFECV simulation will take a long time on CPUs. \n",
    "\"\"\"\n",
    "\n",
    "X_o = pd.DataFrame(X)\n",
    "X_o = X_o[[192, 1061, 1569, 1678, 1900, 2024, 2026, 2184, 2213, 2750]]   # Selected features from RFECV.\n",
    "X_o"
   ]
  },
  {
   "cell_type": "code",
   "execution_count": null,
   "metadata": {},
   "outputs": [],
   "source": [
    "X_train, X_test, y_train, y_test = train_test_split(X_o, y, test_size=0.2, random_state=0)"
   ]
  },
  {
   "cell_type": "code",
   "execution_count": null,
   "metadata": {
    "id": "zL62MPU1hrGP"
   },
   "outputs": [],
   "source": [
    "from sklearn.preprocessing import StandardScaler\n",
    "\n",
    "sc = StandardScaler()\n",
    "X_train = sc.fit_transform(X_train)\n",
    "X_test = sc.transform(X_test)"
   ]
  },
  {
   "cell_type": "code",
   "execution_count": null,
   "metadata": {
    "id": "YZitg-FrhrGP"
   },
   "outputs": [],
   "source": [
    "from sklearn.svm import SVC\n",
    "from sklearn.metrics import accuracy_score, confusion_matrix\n",
    "\n",
    "classifier = SVC(kernel='linear', random_state=0)\n",
    "classifier.fit(X_train, y_train)\n",
    "\n",
    "# Make predictions on the testing set\n",
    "#\n",
    "y_pred = classifier.predict(X_test)\n",
    "\n",
    "# Evaluate the performance of the model\n",
    "#\n",
    "accuracy = accuracy_score(y_test, np.full((20,), \"HR+\"))\n",
    "print(\"Accuracy:\", accuracy * 100, \"%\")"
   ]
  },
  {
   "attachments": {},
   "cell_type": "markdown",
   "metadata": {
    "id": "GLKpY6H2hrGQ"
   },
   "source": [
    "## SVC with Selected Features & Randomized batch simulations [1000 runs]"
   ]
  },
  {
   "cell_type": "code",
   "execution_count": null,
   "metadata": {
    "id": "i7qbwv7BhrGQ"
   },
   "outputs": [],
   "source": [
    "import numpy as np\n",
    "import pandas as pd\n",
    "from sklearn.model_selection import train_test_split\n",
    "from sklearn.svm import SVC\n",
    "from sklearn.metrics import accuracy_score, confusion_matrix\n",
    "import random\n",
    "\n",
    "sum_acc = 0\n",
    "\n",
    "for iter in range (1000):\n",
    "    X_temp = pd.DataFrame(X)\n",
    "    X_temp = X_temp[random.sample(range(1, 2833), 10)]\n",
    "    \n",
    "    X_train_temp, X_test_temp, y_train_temp, y_test_temp = train_test_split(X_temp, y, test_size=0.2, random_state=0)\n",
    "\n",
    "    # Train the SVM model\n",
    "    #\n",
    "    classifier = SVC(kernel='linear', random_state=0)\n",
    "    classifier.fit(X_train, y_train)\n",
    "\n",
    "    # Make predictions on the testing set\n",
    "    #\n",
    "    y_pred = classifier.predict(X_test_temp)\n",
    "\n",
    "    # Evaluate the performance of the model\n",
    "    #\n",
    "    accuracy = accuracy_score(y_test, y_pred)\n",
    "\n",
    "    sum_acc += accuracy\n",
    "\n",
    "print('Average Accuracy: ', sum_acc / 5, \"%\")"
   ]
  },
  {
   "attachments": {},
   "cell_type": "markdown",
   "metadata": {
    "id": "-Cvhp-5jly0P"
   },
   "source": [
    "## Random Forest CV simulations"
   ]
  },
  {
   "cell_type": "code",
   "execution_count": null,
   "metadata": {
    "id": "tCd0IjDYlvzM"
   },
   "outputs": [],
   "source": [
    "# For RF\n",
    "#\n",
    "rf_grid = GridSearchCV(estimator=RandomForestClassifier(), param_grid=rf_params, cv=inner_cv)\n",
    "rf_grid.fit(X_train, y_train)\n",
    "rf_best_params = rf_grid.best_params_\n",
    "rf_scores = cross_val_score(estimator=rf_grid, X=X_test, y=y_test, cv=outer_cv)\n",
    "print('avr RF scores:', rf_scores.mean()*100,'%')"
   ]
  },
  {
   "attachments": {},
   "cell_type": "markdown",
   "metadata": {
    "id": "JDzgoifscTmn"
   },
   "source": [
    "## Creation of ROC plots\n"
   ]
  },
  {
   "cell_type": "code",
   "execution_count": null,
   "metadata": {
    "id": "0x8RypHPcW-u"
   },
   "outputs": [],
   "source": [
    "from sklearn.metrics import RocCurveDisplay, roc_curve\n",
    "import matplotlib.pyplot as plt"
   ]
  },
  {
   "cell_type": "code",
   "execution_count": null,
   "metadata": {},
   "outputs": [],
   "source": [
    "# multi-class classification\n",
    "from sklearn.multiclass import OneVsRestClassifier\n",
    "from sklearn.linear_model import LogisticRegression\n",
    "from sklearn.model_selection import train_test_split\n",
    "from sklearn.metrics import roc_curve\n",
    "from sklearn.metrics import roc_auc_score\n",
    "\n",
    "rf_grid_roc = GridSearchCV(estimator=RandomForestClassifier(), param_grid=rf_params, cv=inner_cv)\n",
    "rf_grid_roc.fit(X_train, y_train)"
   ]
  },
  {
   "cell_type": "code",
   "execution_count": null,
   "metadata": {},
   "outputs": [],
   "source": [
    "from sklearn.preprocessing import LabelEncoder\n",
    "\n",
    "# encode string labels to numerical labels\n",
    "le = LabelEncoder()\n",
    "y_train_encoded = le.fit_transform(y_train)\n",
    "\n",
    "# map numerical labels to string labels\n",
    "label_map = {i: label for i, label in enumerate(le.classes_)}\n",
    "\n",
    "# generate 2 class dataset\n",
    "X, y = make_classification(n_samples=1000, n_classes=3, n_features=20, n_informative=3, random_state=42)\n",
    "\n",
    "# split into train/test sets\n",
    "X_train, X_test, y_train_encoded, y_test = train_test_split(X, y, test_size=0.4, random_state=42)"
   ]
  },
  {
   "attachments": {},
   "cell_type": "markdown",
   "metadata": {},
   "source": [
    "### Random Forest ROC plot"
   ]
  },
  {
   "cell_type": "code",
   "execution_count": null,
   "metadata": {},
   "outputs": [],
   "source": [
    "# fit model\n",
    "clf = OneVsRestClassifier(rf_grid_roc)\n",
    "clf.fit(X_train, y_train_encoded)\n",
    "pred = clf.predict(X_test)\n",
    "pred_prob = clf.predict_proba(X_test)\n",
    "\n",
    "# roc curve for classes\n",
    "fpr = {}\n",
    "tpr = {}\n",
    "thresh ={}\n",
    "auc = {}\n",
    "\n",
    "n_class = 3\n",
    "\n",
    "for i in range(n_class):    \n",
    "    fpr[i], tpr[i], thresh[i] = roc_curve(y_test, pred_prob[:,i], pos_label=i)\n",
    "    auc[i] = roc_auc_score(y_test == i, pred_prob[:,i])\n",
    "    \n",
    "# plotting    \n",
    "plt.plot(fpr[0], tpr[0], linestyle='-',color='orange', label=f'{label_map[0]} vs Rest (AUC = {auc[0]:.2f})')\n",
    "plt.plot(fpr[1], tpr[1], linestyle='-',color='green', label=f'{label_map[1]} vs Rest (AUC = {auc[1]:.2f})')\n",
    "plt.plot(fpr[2], tpr[2], linestyle='-',color='blue', label=f'{label_map[2]} vs Rest (AUC = {auc[2]:.2f})')\n",
    "plt.plot([0, 1], [0, 1], linestyle='--', color='red', label='Chance (AUC = 0.5)')\n",
    "\n",
    "plt.title('Multiclass One-vs-Rest Receiver Operating Characteristic')\n",
    "plt.xlabel('False Positive Rate')\n",
    "plt.ylabel('True Positive rate')\n",
    "plt.legend(loc='best')\n",
    "plt.savefig('Multiclass ROC',dpi=300);   \n"
   ]
  },
  {
   "attachments": {},
   "cell_type": "markdown",
   "metadata": {},
   "source": [
    "### SVC ROC plot"
   ]
  },
  {
   "cell_type": "code",
   "execution_count": null,
   "metadata": {},
   "outputs": [],
   "source": [
    "# fit model\n",
    "clf_svc = OneVsRestClassifier(classifier)\n",
    "clf_svc.fit(X_train, y_train_encoded)\n",
    "pred_svc = clf_svc.predict(X_test)\n",
    "pred_prob_svc = clf_svc.predict_proba(X_test)\n",
    "\n",
    "# roc curve for classes\n",
    "fpr_svc = {}\n",
    "tpr_svc = {}\n",
    "thresh_svc ={}\n",
    "auc_svc = {}\n",
    "\n",
    "n_class = 3\n",
    "\n",
    "for i in range(n_class):    \n",
    "    fpr_svc[i], tpr_svc[i], thresh_svc[i] = roc_curve(y_test, pred_prob_svc[:,i], pos_label=i)\n",
    "    auc_svc[i] = roc_auc_score(y_test == i, pred_prob_svc[:,i])\n",
    "    \n",
    "# plotting    \n",
    "plt.plot(fpr_svc[0], tpr_svc[0], linestyle='-',color='orange', label=f'{label_map[0]} vs Rest (AUC = {auc_svc[0]:.2f})')\n",
    "plt.plot(fpr_svc[1], tpr_svc[1], linestyle='-',color='green', label=f'{label_map[1]} vs Rest (AUC = {auc_svc[1]:.2f})')\n",
    "plt.plot(fpr_svc[2], tpr_svc[2], linestyle='-',color='blue', label=f'{label_map[2]} vs Rest (AUC = {auc_svc[2]:.2f})')\n",
    "plt.plot([0, 1], [0, 1], linestyle='--', color='red', label='Chance (AUC = 0.5)')\n",
    "\n",
    "plt.title('Multiclass One-vs-Rest Receiver Operating Characteristic')\n",
    "plt.xlabel('False Positive Rate')\n",
    "plt.ylabel('True Positive rate')\n",
    "plt.legend(loc='best')\n",
    "plt.savefig('Multiclass ROC',dpi=300);   \n"
   ]
  },
  {
   "cell_type": "code",
   "execution_count": null,
   "metadata": {},
   "outputs": [],
   "source": [
    "rfc = RandomForestClassifier(n_estimators = 100, max_depth = 5, max_features = 1000, min_samples_split = 10, random_state=42)\n",
    "rfc.fit(X, y)\n",
    "\n",
    "pickle.dump(rfc, open('model_akhil.pkl', 'wb'))\n",
    "\n",
    "y_pred = rfc.predict(X_test)\n",
    "\n",
    "accuracy = accuracy_score(y_test, y_pred)\n",
    "print(\"Accuracy: {:.2f}%\".format(accuracy*100))"
   ]
  },
  {
   "attachments": {},
   "cell_type": "markdown",
   "metadata": {},
   "source": [
    "# Finding Estimate"
   ]
  },
  {
   "cell_type": "code",
   "execution_count": null,
   "metadata": {},
   "outputs": [],
   "source": [
    "from sklearn.model_selection import KFold\n",
    "from sklearn.metrics import accuracy_score\n",
    "\n",
    "# Load your dataset\n",
    "X_o = pd.DataFrame(X)\n",
    "# X_o = X_o[[48, 192, 486, 674, 746, 791, 854, 999, 1061, 1079]]\n",
    "# X_o = X_o[[48, 192, 486, 674, 746, 791, 854, 999, 1061, 1079, 1243, 1561, 1569, 1656, 1672, 1677, 1678, 1900, 1973, 2021, 2024, 2026, 2058, 2184, 2207, 2210, 2213, 2428, 2495, 2547, 2742, 2750, 2817]]\n",
    "y = y\n",
    "\n",
    "# Define the number of folds\n",
    "k = 15\n",
    "\n",
    "# Initialize KFold\n",
    "kf = KFold(n_splits=k)\n",
    "\n",
    "# Initialize your model\n",
    "model = RandomForestClassifier(n_estimators = 100, max_depth = 5, max_features = 1000, min_samples_split = 10, random_state=42)\n",
    "\n",
    "# Initialize a list to store the accuracy scores for each fold\n",
    "acc_scores = []\n",
    "\n",
    "# Iterate over each fold\n",
    "for train_index, test_index in kf.split(X_o):\n",
    "    # Split your data into training and testing sets\n",
    "    X_train, X_test = X[train_index], X[test_index]\n",
    "    y_train, y_test = y[train_index], y[test_index]\n",
    "\n",
    "    # Train your model on the training set\n",
    "    model.fit(X_train, y_train)\n",
    "\n",
    "    # Make predictions on the testing set\n",
    "    y_pred = model.predict(X_test)\n",
    "\n",
    "    # Calculate the accuracy score for this fold\n",
    "    acc_score = accuracy_score(y_test, y_pred)\n",
    "\n",
    "    # Append the accuracy score to the list of scores\n",
    "    acc_scores.append(acc_score)\n",
    "\n",
    "# Calculate the average accuracy score across all folds\n",
    "avg_acc_score = sum(acc_scores) / k\n",
    "\n",
    "# Calculate the estimated number of correct predictions on unseen data\n",
    "num_correct_predictions = int(avg_acc_score * len(X))\n",
    "\n",
    "# Print the estimated number of correct predictions\n",
    "print(\"Estimated number of correct predictions on unseen data:\", num_correct_predictions)"
   ]
  },
  {
   "cell_type": "code",
   "execution_count": null,
   "metadata": {},
   "outputs": [],
   "source": [
    "correct_est = str(int(avg_acc_score * 57))\n",
    "print(\"Estimated for the #of correct predictions on Competition data: \", correct_est)\n",
    "\n",
    "with open(\"estimate.txt\", \"w\") as f:\n",
    "    f.write(str(correct_est))"
   ]
  }
 ],
 "metadata": {
  "colab": {
   "collapsed_sections": [
    "pp8rsGj6HYIf",
    "RzDjNszOMwKj",
    "6RVmA9UyM7lz",
    "_oHW5l75Mlrq",
    "YJ6UlaEYhrGL",
    "V3XasclXhrGN",
    "GLKpY6H2hrGQ",
    "-Cvhp-5jly0P",
    "JDzgoifscTmn"
   ],
   "provenance": []
  },
  "gpuClass": "standard",
  "kernelspec": {
   "display_name": "Python 3 (ipykernel)",
   "language": "python",
   "name": "python3"
  },
  "language_info": {
   "codemirror_mode": {
    "name": "ipython",
    "version": 3
   },
   "file_extension": ".py",
   "mimetype": "text/x-python",
   "name": "python",
   "nbconvert_exporter": "python",
   "pygments_lexer": "ipython3",
   "version": "3.10.11"
  }
 },
 "nbformat": 4,
 "nbformat_minor": 1
}
